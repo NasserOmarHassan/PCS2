{
 "cells": [
  {
   "cell_type": "markdown",
   "metadata": {},
   "source": [
    "# Name : Nasser Hassan\n",
    "\n",
    "# Matricola : 1848826"
   ]
  },
  {
   "cell_type": "code",
   "execution_count": null,
   "metadata": {},
   "outputs": [],
   "source": [
    "# 1) itertools.product()\n",
    "\n",
    "from itertools import product\n",
    "\n",
    "A = input().split()\n",
    "A = list(map(int, A))\n",
    "B = input().split()\n",
    "B = list(map(int, B))\n",
    "\n",
    "for i in product(A, B):\n",
    "    print(i, end=' ')"
   ]
  },
  {
   "cell_type": "code",
   "execution_count": null,
   "metadata": {},
   "outputs": [],
   "source": [
    "# 2) itertools.permutations()\n",
    "\n",
    "from itertools import permutations\n",
    "\n",
    "S = input().split()\n",
    "\n",
    "for i in sorted(permutations(S[0], int(S[1]))):\n",
    "    print(''.join(i))"
   ]
  },
  {
   "cell_type": "code",
   "execution_count": null,
   "metadata": {},
   "outputs": [],
   "source": [
    "# 3) itertools.combinations()\n",
    "\n",
    "from itertools import combinations\n",
    "\n",
    "a = input().split()\n",
    "\n",
    "for i in range(1, int(a[1]) + 1):\n",
    "    for j in combinations(sorted(a[0]), i):\n",
    "        print(''.join(j))"
   ]
  },
  {
   "cell_type": "code",
   "execution_count": null,
   "metadata": {},
   "outputs": [],
   "source": [
    "# 4) itertools.combinations_with_replacement()\n",
    "\n",
    "from itertools import combinations_with_replacement\n",
    "\n",
    "lis = input().split(' ')\n",
    "\n",
    "for i in combinations_with_replacement(sorted(lis[0]), int(lis[1])):\n",
    "    print(''.join(i))"
   ]
  },
  {
   "cell_type": "code",
   "execution_count": null,
   "metadata": {},
   "outputs": [],
   "source": [
    "# 5) Compress the String!\n",
    "from itertools import groupby\n",
    "\n",
    "args = input().strip()\n",
    "\n",
    "for key, group in groupby(args):\n",
    "    print((len(list(group)), int(key)), end=\" \")"
   ]
  },
  {
   "cell_type": "code",
   "execution_count": null,
   "metadata": {},
   "outputs": [],
   "source": [
    "# 6) Iterables and Iterators\n",
    "from itertools import combinations\n",
    "\n",
    "n, l, k = int(input()), input().strip().split(' '), int(input())\n",
    "\n",
    "count = 0.0\n",
    "list_count = 0.0\n",
    "\n",
    "for i in combinations(l, k):\n",
    "    list_count += 1\n",
    "    if 'a' in i:\n",
    "        count += 1\n",
    "\n",
    "print(\"%.3f\" % (count / list_count))"
   ]
  }
 ],
 "metadata": {
  "kernelspec": {
   "display_name": "Python 3",
   "language": "python",
   "name": "python3"
  },
  "language_info": {
   "codemirror_mode": {
    "name": "ipython",
    "version": 3
   },
   "file_extension": ".py",
   "mimetype": "text/x-python",
   "name": "python",
   "nbconvert_exporter": "python",
   "pygments_lexer": "ipython3",
   "version": "3.8.3"
  }
 },
 "nbformat": 4,
 "nbformat_minor": 4
}
