{
 "cells": [
  {
   "cell_type": "markdown",
   "metadata": {},
   "source": [
    "# Name: Nasser Hassan\n",
    "# Student Number: 1848826\n",
    "# 8 exercises about collections  .. all of them are available on Hackerrank site"
   ]
  },
  {
   "cell_type": "code",
   "execution_count": null,
   "metadata": {},
   "outputs": [],
   "source": [
    "# TASK1)collections.Counter()\n",
    "X = int(input())\n",
    "size_list = input().split()\n",
    "N = int(input())\n",
    "money = 0\n",
    "for i in range(N):\n",
    "    size, price = map(int, input().split())\n",
    "    if str(size) in size_list:\n",
    "        money += price\n",
    "        size_list.remove(str(size))\n",
    "print(money)"
   ]
  },
  {
   "cell_type": "code",
   "execution_count": null,
   "metadata": {},
   "outputs": [],
   "source": [
    "#TASK 2) DefaultDict Tutorial\n",
    "from collections import defaultdict\n",
    "d = defaultdict(list)\n",
    "n, m = map(int, input().split())\n",
    "for i in range(1, n+1):\n",
    "    d[input()].append(str(i))\n",
    "for j in range(m):\n",
    "    print(' '.join(d[input()]) or -1)"
   ]
  },
  {
   "cell_type": "code",
   "execution_count": null,
   "metadata": {},
   "outputs": [],
   "source": [
    "# TASK3)Collections .namedtuple()\n",
    "import collections\n",
    "\n",
    "n = int(input())\n",
    "scol = ','.join(input().split())\n",
    "Student = collections.namedtuple('Student',scol)\n",
    "\n",
    "sum = 0\n",
    "for i in range(n):\n",
    "    row = input().split()\n",
    "    student = Student(*row)\n",
    "    sum += int(student.MARKS)\n",
    "\n",
    "print(sum/n)"
   ]
  },
  {
   "cell_type": "code",
   "execution_count": null,
   "metadata": {},
   "outputs": [],
   "source": [
    "# TASK4) Collections .ordereddict()\n",
    "from collections import OrderedDict\n",
    "my_order = OrderedDict()\n",
    "for i in range(int(input())):\n",
    "    name,space,price = input().rpartition(' ')\n",
    "    if name not in my_order:\n",
    "        my_order[name] = int(price)\n",
    "    else:\n",
    "        my_order[name] += int(price)\n",
    "for item_name, net_price in list(my_order.items()):\n",
    "    print(item_name,net_price)"
   ]
  },
  {
   "cell_type": "code",
   "execution_count": null,
   "metadata": {},
   "outputs": [],
   "source": [
    "# TASK5) Word Order\n",
    "from collections import OrderedDict\n",
    "N = int(input())\n",
    "d = OrderedDict()\n",
    "for n in range(N):\n",
    "    word = str(input())\n",
    "    if word not in d:\n",
    "        d[word] = 1\n",
    "    else:\n",
    "        d[word] += 1\n",
    "print((len(d)))\n",
    "print((*list(d.values())))"
   ]
  },
  {
   "cell_type": "code",
   "execution_count": null,
   "metadata": {},
   "outputs": [],
   "source": [
    "#TASK 6) Collections .deque()\n",
    "from collections import deque\n",
    "d = deque()\n",
    "for i in range(int(input())):\n",
    "    s = input().split()\n",
    "    if s[0] == 'append':\n",
    "        d.append(s[1])\n",
    "    elif s[0] == 'appendleft':\n",
    "        d.appendleft(s[1])\n",
    "    elif s[0] == 'pop':\n",
    "        d.pop()\n",
    "    else:\n",
    "        d.popleft()\n",
    "print(\" \".join(d))  "
   ]
  },
  {
   "cell_type": "code",
   "execution_count": null,
   "metadata": {},
   "outputs": [],
   "source": [
    "# TASK7) Company Logo\n",
    "import collections\n",
    "\n",
    "s = sorted(input().strip())\n",
    "s_counter = collections.Counter(s).most_common()\n",
    "\n",
    "s_counter = sorted(s_counter, key=lambda x: (x[1] * -1, x[0]))\n",
    "for i in range(0, 3):\n",
    "    print(s_counter[i][0], s_counter[i][1])"
   ]
  },
  {
   "cell_type": "code",
   "execution_count": null,
   "metadata": {},
   "outputs": [],
   "source": [
    "# TASK 8) Piling Up!\n",
    "T = int(input())\n",
    "for i in range(T):\n",
    "    n = int(input())\n",
    "    l1 = []\n",
    "    for i in input().split():\n",
    "        l1.append(int(i))\n",
    "    if l1[0] >= l1[-1]:\n",
    "        last = l1[0]\n",
    "        l1.pop(0)\n",
    "    else:\n",
    "        last = l1[-1]\n",
    "        l1.pop(-1)\n",
    "    for x in range(0, len(l1)):\n",
    "        if l1[0] >= l1[-1] and l1[0] <= last:\n",
    "            last = l1[0]\n",
    "            l1.pop(0)\n",
    "        elif l1[0] < l1[-1] and l1[-1] <= last:\n",
    "            last = l1[-1]\n",
    "            l1.pop(-1)\n",
    "        else: None\n",
    "    if len(l1) == 0:\n",
    "        print('Yes')\n",
    "    elif len(l1) > 0:\n",
    "        print('No')"
   ]
  }
 ],
 "metadata": {
  "kernelspec": {
   "display_name": "Python 3",
   "language": "python",
   "name": "python3"
  },
  "language_info": {
   "codemirror_mode": {
    "name": "ipython",
    "version": 3
   },
   "file_extension": ".py",
   "mimetype": "text/x-python",
   "name": "python",
   "nbconvert_exporter": "python",
   "pygments_lexer": "ipython3",
   "version": "3.8.3"
  }
 },
 "nbformat": 4,
 "nbformat_minor": 4
}
