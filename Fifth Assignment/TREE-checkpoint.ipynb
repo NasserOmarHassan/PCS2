{
 "cells": [
  {
   "cell_type": "code",
   "execution_count": 8,
   "metadata": {},
   "outputs": [
    {
     "name": "stdout",
     "output_type": "stream",
     "text": [
      "26\n"
     ]
    }
   ],
   "source": [
    "def problem(n, edges):\n",
    "    \n",
    "    return n - len(edges) - 1\n",
    "\n",
    "if __name__ == '__main__':\n",
    "    import doctest\n",
    "    from os.path import dirname\n",
    "\n",
    "    doctest.testmod()\n",
    "\n",
    "    dataset = open(\"C://Users//Nasser//Downloads//rosalind_tree.txt\",\"r\").readlines()\n",
    "    n = int(dataset[0])\n",
    "    edges = []\n",
    "    for i in range(1, len(dataset)):\n",
    "        edges.append(map(int, dataset[i].split()))\n",
    "\n",
    "print (problem(n, edges))"
   ]
  },
  {
   "cell_type": "code",
   "execution_count": null,
   "metadata": {},
   "outputs": [],
   "source": []
  }
 ],
 "metadata": {
  "kernelspec": {
   "display_name": "Python 3",
   "language": "python",
   "name": "python3"
  },
  "language_info": {
   "codemirror_mode": {
    "name": "ipython",
    "version": 3
   },
   "file_extension": ".py",
   "mimetype": "text/x-python",
   "name": "python",
   "nbconvert_exporter": "python",
   "pygments_lexer": "ipython3",
   "version": "3.8.3"
  }
 },
 "nbformat": 4,
 "nbformat_minor": 4
}
