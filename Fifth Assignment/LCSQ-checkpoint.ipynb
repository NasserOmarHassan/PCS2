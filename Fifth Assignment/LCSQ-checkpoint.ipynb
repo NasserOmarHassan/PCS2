{
 "cells": [
  {
   "cell_type": "code",
   "execution_count": 1,
   "metadata": {},
   "outputs": [
    {
     "name": "stdout",
     "output_type": "stream",
     "text": [
      "GTAATCCGATCCTTGAGGGGCACCATTGAAACAGTGGTCGGCCCACCCCCACCCACTGAGATAATTGGATAAAACCCGTTTGACATGTCCCGCGTCGGCGTTTAAGAGTTAGTTGTAAGCAGATAACCCTCAGATGCACTACGTCGGAGCGTATCTGAGATCAAGAGGAACCAATCTTGCATAGGTCACTCTAGACACGAACCTACACGCACACTGCGTTACAAAATCTGCTATGGTGAACCCGCCCTCGCATTTCTTGTTAACGACCCTACGATCTATGAGGTCCTTTAGCCATTAAGGCCAATCTTCTTATATAGTTTTACCTGAAGCAGGGCTTTGCAACTTAGACTATACCTACTGCAGTTTGTCAGGTGAAGCACCGAATTTGGCAAGCATAAGACACCTGAGTCTGAAGTAGGACATTACTGTGGACTTCTCCCGGTACCTAAGGTTGGGCGTTACGACTGAACACCTCAAAGAGAGATAATATCTGACTTTTAACGCGCCAGCGGGGCCACAGCCGTTAGGTCACTCAACTAATAAACCAGTTGAGTCG\n"
     ]
    }
   ],
   "source": [
    "f = open(\"C://Users//Nasser//Downloads//rosalind_lcsq.txt\", \"r\")\n",
    "mat = []\n",
    "str1 = f.read()\n",
    "str1 = str1.replace(\"Rosalind_\", \"\")\n",
    "str1 = str1.replace(\"\\n\", \"\")\n",
    "str1 = ''.join([i for i in str1 if not i.isdigit()])\n",
    "mat = str1.split(\">\")\n",
    "mat.remove(\"\")\n",
    "\n",
    "S, T = mat\n",
    "ssm = [''] * (len(T) + 1)\n",
    "for i in S:\n",
    "    last = ssm\n",
    "    ssm = ['']\n",
    "    for j, k in enumerate(T):\n",
    "        if(i == k):\n",
    "            ssm.append(last[j] + i)\n",
    "        else:\n",
    "            ssm.append(max(last[j+1], ssm[-1], key=len))\n",
    "print (ssm[-1])"
   ]
  },
  {
   "cell_type": "code",
   "execution_count": null,
   "metadata": {},
   "outputs": [],
   "source": []
  }
 ],
 "metadata": {
  "kernelspec": {
   "display_name": "Python 3",
   "language": "python",
   "name": "python3"
  },
  "language_info": {
   "codemirror_mode": {
    "name": "ipython",
    "version": 3
   },
   "file_extension": ".py",
   "mimetype": "text/x-python",
   "name": "python",
   "nbconvert_exporter": "python",
   "pygments_lexer": "ipython3",
   "version": "3.8.3"
  }
 },
 "nbformat": 4,
 "nbformat_minor": 4
}
