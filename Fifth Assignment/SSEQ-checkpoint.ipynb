{
 "cells": [
  {
   "cell_type": "code",
   "execution_count": 5,
   "metadata": {},
   "outputs": [
    {
     "name": "stdout",
     "output_type": "stream",
     "text": [
      "3 4 7 13 17 18 26 27 31 32 43 47 50 54 55 61 62 69 70 71 74 75 82 91 94 95 96 98 103 107 108 110 111 112 114 117 121 122 126 133 137 142 145 167 170 175 179 180 185 192 198 203 206 211 212 213 217 218 221 222 223 227 228 233 234 235 240 243 245 251 254\n"
     ]
    }
   ],
   "source": [
    "arquivo = open(\"C://Users//Nasser//Downloads//rosalind_sseq (3).txt\", \"r\")\n",
    "sequencia=[]\n",
    "i=-1\n",
    "for linha in arquivo:\n",
    "\tif linha.find('>') != -1:\t\t\n",
    "\t\ti+=1\n",
    "\t\tsequencia.append('')\n",
    "\telse:\t\t\n",
    "\t\tsequencia[i]=sequencia[i]+linha.rstrip()\n",
    "\n",
    "s=sequencia[0]\n",
    "t=sequencia[1]\n",
    "\n",
    "baseatual = -1\n",
    "indices = []\n",
    "\n",
    "for base in t:\n",
    "    if len(indices)==0:\n",
    "        indices.append(s.find(base)+1)        \n",
    "    else:\n",
    "        indices.append(s.find(base,indices[-1])+1)\n",
    "\n",
    "print (' '.join(map(str, indices)))"
   ]
  },
  {
   "cell_type": "code",
   "execution_count": null,
   "metadata": {},
   "outputs": [],
   "source": []
  }
 ],
 "metadata": {
  "kernelspec": {
   "display_name": "Python 3",
   "language": "python",
   "name": "python3"
  },
  "language_info": {
   "codemirror_mode": {
    "name": "ipython",
    "version": 3
   },
   "file_extension": ".py",
   "mimetype": "text/x-python",
   "name": "python",
   "nbconvert_exporter": "python",
   "pygments_lexer": "ipython3",
   "version": "3.8.3"
  }
 },
 "nbformat": 4,
 "nbformat_minor": 4
}
