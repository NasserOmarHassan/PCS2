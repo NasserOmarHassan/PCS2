{
 "cells": [
  {
   "cell_type": "code",
   "execution_count": 1,
   "metadata": {},
   "outputs": [],
   "source": [
    "from Bio import SeqIO\n",
    "blosum62 = [['A', 'C', 'D', 'E', 'F', 'G', 'H', 'I', 'K', 'L', 'M', 'N', 'P', 'Q', 'R', 'S', 'T', 'V', 'W', 'Y'],\n",
    "            ['A', 4, 0, -2, -1, -2, 0, -2, -1, -1, -1, -1, -2, -1, -1, -1, 1, 0, 0, -3, -2],\n",
    "            ['C', 0, 9, -3, -4, -2, -3, -3, -1, -3, -1, -1, -3, -3, -3, -3, -1, -1, -1, -2, -2],\n",
    "            ['D', -2, -3, 6, 2, -3, -1, -1, -3, -1, -4, -3, 1, -1, 0, -2, 0, -1, -3, -4, -3],\n",
    "            ['E', -1, -4, 2, 5, -3, -2,  0, -3, 1, -3, -2, 0, -1, 2, 0, 0, -1, -2, -3, -2],\n",
    "            ['F', -2, -2, -3, -3, 6, -3, -1, 0, -3, 0, 0, -3, -4, -3, -3, -2, -2, -1, 1, 3],\n",
    "            ['G', 0, -3, -1, -2, -3, 6, -2, -4, -2, -4, -3, 0, -2, -2, -2, 0, -2, -3, -2, -3],\n",
    "            ['H', -2, -3, -1, 0, -1, -2, 8, -3, -1, -3, -2, 1, -2, 0, 0, -1, -2, -3, -2, 2],\n",
    "            ['I', -1, -1, -3, -3, 0, -4, -3, 4, -3, 2, 1, -3, -3, -3, -3, -2, -1 ,3, -3, -1],\n",
    "            ['K', -1, -3, -1, 1, -3, -2, -1, -3, 5, -2, -1, 0, -1, 1, 2, 0, -1, -2, -3, -2],\n",
    "            ['L', -1, -1, -4, -3, 0, -4, -3, 2, -2, 4, 2, -3, -3, -2, -2, -2, -1, 1, -2, -1],\n",
    "            ['M', -1, -1, -3, -2, 0, -3, -2, 1, -1, 2, 5, -2, -2, 0, -1, -1, -1, 1, -1, -1],\n",
    "            ['N', -2, -3, 1, 0, -3, 0, 1, -3, 0, -3, -2, 6, -2, 0, 0, 1, 0, -3, -4, -2],\n",
    "            ['P', -1, -3, -1, -1, -4, -2, -2, -3, -1, -3, -2, -2, 7, -1, -2, -1, -1, -2, -4, -3],\n",
    "            ['Q', -1, -3, 0, 2, -3, -2, 0, -3, 1, -2, 0, 0, -1, 5, 1, 0, -1, -2, -2, -1],\n",
    "            ['R', -1, -3, -2, 0, -3, -2, 0, -3, 2, -2, -1, 0, -2, 1, 5, -1, -1, -3, -3, -2],\n",
    "            ['S', 1, -1, 0, 0, -2, 0, -1, -2, 0, -2, -1, 1, -1, 0, -1, 4, 1, -2, -3, -2],\n",
    "            ['T', 0, -1, -1, -1, -2, -2, -2, -1, -1, -1, -1, 0, -1, -1, -1, 1, 5, 0, -2, -2],\n",
    "            ['V', 0, -1, -3, -2, -1, -3, -3,  3, -2, 1, 1, -3, -2, -2, -3, -2, 0, 4, -3, -1],\n",
    "            ['W', -3, -2, -4, -3, 1, -2, -2, -3, -3, -2, -1, -4, -4, -2, -3, -3, -2, -3, 11, 2],\n",
    "            ['Y', -2, -2, -3, -2, 3, -3, 2, -1, -2, -1, -1, -2, -3, -1, -2, -2, -2, -1, 2, 7]]"
   ]
  },
  {
   "cell_type": "code",
   "execution_count": 2,
   "metadata": {},
   "outputs": [],
   "source": [
    "def glob(s, t):\n",
    "    l = blosum62[0]\n",
    "    e_table = [[0 for x in range(len(t) + 1)] for x in range(len(s) + 1)]\n",
    "    for i in range(len(s) + 1):\n",
    "        for j in range(len(t) + 1):\n",
    "            if i == 0 and j == 0:\n",
    "                e_table[i][j] = 0\n",
    "            elif i == 0 and j > 0:\n",
    "                e_table[i][j] = -5*j\n",
    "            elif j == 0 and i > 0:\n",
    "                e_table[i][j] = -5*i\n",
    "            elif s[i-1] == t[j-1]:\n",
    "                e_table[i][j] = e_table[i-1][j-1] + blosum62[l.index(s[i-1])+1][l.index(s[i-1])+1]\n",
    "            else:\n",
    "                e_table[i][j] = max(e_table[i][j-1]-5,\n",
    "                                    e_table[i-1][j]-5,\n",
    "                                    e_table[i-1][j-1]+blosum62[l.index(s[i-1])+1][l.index(t[j-1])+1])\n",
    "    print(e_table[-1][-1])"
   ]
  },
  {
   "cell_type": "code",
   "execution_count": 3,
   "metadata": {},
   "outputs": [
    {
     "name": "stdout",
     "output_type": "stream",
     "text": [
      "1892\n"
     ]
    }
   ],
   "source": [
    "records = list(SeqIO.parse(\"C://Users//Nasser//Downloads//rosalind_glob.txt\", \"fasta\"))\n",
    "s = records[0].seq\n",
    "t = records[1].seq\n",
    "glob(s, t)"
   ]
  },
  {
   "cell_type": "code",
   "execution_count": null,
   "metadata": {},
   "outputs": [],
   "source": []
  }
 ],
 "metadata": {
  "kernelspec": {
   "display_name": "Python 3",
   "language": "python",
   "name": "python3"
  },
  "language_info": {
   "codemirror_mode": {
    "name": "ipython",
    "version": 3
   },
   "file_extension": ".py",
   "mimetype": "text/x-python",
   "name": "python",
   "nbconvert_exporter": "python",
   "pygments_lexer": "ipython3",
   "version": "3.8.3"
  }
 },
 "nbformat": 4,
 "nbformat_minor": 4
}
