{
 "cells": [
  {
   "cell_type": "code",
   "execution_count": 1,
   "metadata": {},
   "outputs": [],
   "source": [
    "from Bio import SeqIO\n",
    "def edta(s, t):\n",
    "    s1 = ''\n",
    "    t1 = ''\n",
    "    e_table = [[0 for x in range(len(t)+1)] for x in range(len(s)+1)]\n",
    "    for i in range(len(s) + 1):\n",
    "        for j in range(len(t) + 1):\n",
    "            if i == 0:\n",
    "                e_table[i][j] = j\n",
    "            elif j == 0:\n",
    "                e_table[i][j] = i\n",
    "            elif s[i-1] == t[j-1]:\n",
    "                e_table[i][j] = e_table[i-1][j-1]\n",
    "            else:\n",
    "                e_table[i][j] = 1 + min(e_table[i][j-1], e_table[i-1][j], e_table[i-1][j-1])\n",
    "    print(e_table[-1][-1])\n",
    "    \n",
    "    i = len(e_table)-1\n",
    "    j = len(e_table[0])-1\n",
    "    while i != 0 and j != 0:\n",
    "                if min(e_table[i][j-1], e_table[i-1][j], e_table[i-1][j-1]) == e_table[i-1][j-1]:\n",
    "                    s1 += s[i-1]\n",
    "                    t1 += t[j-1]\n",
    "                    j -= 1\n",
    "                    i -= 1\n",
    "                elif e_table[i][j] == e_table[i - 1][j] + 1:\n",
    "                    s1 += s[i-1]\n",
    "                    t1 += '-'\n",
    "                    i -= 1\n",
    "                else:\n",
    "                    s1 += '-'\n",
    "                    t1 += t[j-1]\n",
    "                    j -= 1\n",
    "    print(s1[::-1])\n",
    "    print(t1[::-1])"
   ]
  },
  {
   "cell_type": "code",
   "execution_count": 2,
   "metadata": {},
   "outputs": [
    {
     "name": "stdout",
     "output_type": "stream",
     "text": [
      "376\n",
      "ECGISVYKNGIDLEQTETMMY-----L--AGCHGITVDKRIYLWVSEKTVVFSVQHKDTCYLWPMAGFVPTHTAMLTWPV------AC-SITPKI--ESLWNLF-----RNCSAV--HIICWAHWEEFLCYDMQHENWIRYIIHQNDLSARNLQTENTANGVWHAYQAAMMHHVTDNYATALASIRFTPSFYTAAII---------H------VDSEACDPQKMYDY-DQCSHPKVSFTCWYERWREYLCFKIFPIMFEWVNDIVAACWFNKNCQNWPNICETASLSQPQSTAAMNICFCYWWFT-AI--YMQASLY-WYRMKETIITNGAIAKVHCCTPAAEKKCADFDSWRRPCIDDWFCMA-GFQ-SA-IAHVTHHHYWDPRDNHQFNDGRYRYQGHDMDQTNKRKNESQPNAQRPDNCLVEWNCEAIDNNLWTIGPLTLDLCDGIRGQMILPRWLMFVYHASPQGWMIVGNESNPFHNTRI-THIAIPSMPTCWSPNQLQWQP-IQYNITLD--SSLAWASCQWMVYFRGNPLWKTANPHAWIPANSACEESEQIDDVSDFSSFQPSEIRIDHSTEWFCCGRT-EY-SR---IQDC-CISLRAERNQHTSTDKS---KR--TMRMYPYSYWAQNF-------MRMDKGKDPICHLTAPQLTHHGEGARTGTTYCDVLQAWM------FM-KH-------S-ASEGHMWSRHR-CRWL--P--PRHP--RAMQT-----EGNYRRWVESC-----KDFCVRQQYACRWHQMYYDHLY-IG-----FIA---RGWHIPRLEVVFYLKIWLEQPPMTEVHWEMTNTFMDIMKHNNRLTGNEMLCHWKG---D-RP-Q--QS--A\n",
      "EC-FSVYQPPISVKNGITMMYQMANDLWVAHCKHKT-EK-TNSWYCIALV-FAVQHIDTCYLWLMAGFMPTHTAMLTWPVDHRIHWECCSITPKILNISLWNLFPAPVMINCSAVMDVIICWAHWEEFLCYD--TENTAPGVWH--FHCFLPYQAGNYDAG---NYQ--M----T---A--LASIRFTPSFYTAAIIRPFQSVFILHGFYPNGVADEACDPQKPWTYYNQCTRPKVSFTCWYERWREYLCFKIFMIMF--PMKGVAACWFNKN------ICETASLSQPQS-----ICFCYWWFTWDIRRRMKMLVYLETPYDEHPIPIHHGPKSWTCNP-PEK---D--SWRRPCIDDWFCMAEQPQTCAEQFACAHVRYWDPRDNH-RTD--MVTEG--MLQTNKRKNESHPNAQRPDNCLVEWNCEAIDNNLWTIGPLTLDLCDGIRGQMILPRWLMFV------GPMIVGNESNPFHNTRIMLNKCHWTKITCWSPNQLQWQPMHQYNITLDLFSSLAWWSEQWMVYFRGNPLWK-------IPANSACTES--WDFVLGFSDF--S-SRIFVQQPNECCGRTVCYTTREDRIQDCRAEHWYAAWNQHSSTDISWMDTRNAFMRMYPYSYWAQNFTCNDEWSTRMDKGKDPICHLTAGEGAMH---INTGTTPCDVLQAWMWPQTDGKMWKHNKTQNNQSYRSPGHMWQVQRWLPPLQTPETWEHPLCTAMQTGLKLKDGNYRRWVESCCIYSQKDVCVRQQYARRWHQMDYDHLYFTGEELMGFIAHEKNKRFIPRLEVVFYLKIWLYVPP-WE-MTFMPQTFMDIMK----LTGNEMLCHWKGWRIDPRPWQHAMSHQA\n"
     ]
    }
   ],
   "source": [
    "records = list(SeqIO.parse(\"C://Users//Nasser//Downloads//rosalind_edta.txt\", \"fasta\"))\n",
    "s = records[0].seq\n",
    "t = records[1].seq\n",
    "edta(s, t)"
   ]
  },
  {
   "cell_type": "code",
   "execution_count": null,
   "metadata": {},
   "outputs": [],
   "source": []
  }
 ],
 "metadata": {
  "kernelspec": {
   "display_name": "Python 3",
   "language": "python",
   "name": "python3"
  },
  "language_info": {
   "codemirror_mode": {
    "name": "ipython",
    "version": 3
   },
   "file_extension": ".py",
   "mimetype": "text/x-python",
   "name": "python",
   "nbconvert_exporter": "python",
   "pygments_lexer": "ipython3",
   "version": "3.8.3"
  }
 },
 "nbformat": 4,
 "nbformat_minor": 4
}
