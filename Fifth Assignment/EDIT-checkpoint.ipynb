{
 "cells": [
  {
   "cell_type": "code",
   "execution_count": 1,
   "metadata": {},
   "outputs": [],
   "source": [
    "from Bio import SeqIO\n"
   ]
  },
  {
   "cell_type": "code",
   "execution_count": 2,
   "metadata": {},
   "outputs": [],
   "source": [
    "def edit(s, t):\n",
    "    e_table = [[0 for x in range(len(t) + 1)] for x in range(len(s) + 1)]\n",
    "    for i in range(len(s) + 1):\n",
    "        for j in range(len(t) + 1):\n",
    "            if i == 0:\n",
    "                e_table[i][j] = j\n",
    "            elif j == 0:\n",
    "                e_table[i][j] = i\n",
    "            elif s[i-1] == t[j-1]:\n",
    "                e_table[i][j] = e_table[i-1][j-1]\n",
    "            else:\n",
    "                e_table[i][j] = 1 + min(e_table[i][j-1], e_table[i-1][j], e_table[i-1][j-1])\n",
    "    return e_table[len(s)][len(t)]"
   ]
  },
  {
   "cell_type": "code",
   "execution_count": 6,
   "metadata": {},
   "outputs": [
    {
     "data": {
      "text/plain": [
       "400"
      ]
     },
     "execution_count": 6,
     "metadata": {},
     "output_type": "execute_result"
    }
   ],
   "source": [
    "records = list(SeqIO.parse(\"C://Users//Nasser//Downloads//rosalind_edit (3).txt\", \"fasta\"))\n",
    "s = records[0].seq\n",
    "t = records[1].seq\n",
    "edit(s, t)"
   ]
  },
  {
   "cell_type": "code",
   "execution_count": null,
   "metadata": {},
   "outputs": [],
   "source": []
  }
 ],
 "metadata": {
  "kernelspec": {
   "display_name": "Python 3",
   "language": "python",
   "name": "python3"
  },
  "language_info": {
   "codemirror_mode": {
    "name": "ipython",
    "version": 3
   },
   "file_extension": ".py",
   "mimetype": "text/x-python",
   "name": "python",
   "nbconvert_exporter": "python",
   "pygments_lexer": "ipython3",
   "version": "3.8.3"
  }
 },
 "nbformat": 4,
 "nbformat_minor": 4
}
