{
 "cells": [
  {
   "cell_type": "code",
   "execution_count": 4,
   "metadata": {},
   "outputs": [
    {
     "name": "stdout",
     "output_type": "stream",
     "text": [
      "2.340909090909091\n"
     ]
    }
   ],
   "source": [
    "f = open(\"C://Users//Nasser//Downloads//rosalind_tran.txt\", \"r\")\n",
    "mat = []\n",
    "str1 = f.read()\n",
    "str1 = str1.replace(\"Rosalind_\", \"\")\n",
    "str1 = str1.replace(\"\\n\", \"\")\n",
    "str1 = ''.join([i for i in str1 if not i.isdigit()])\n",
    "mat = str1.split(\">\")\n",
    "mat.remove(\"\")\n",
    "\n",
    "def tAndT(s1, s2):\n",
    "    t1 = 0\n",
    "    t2 = 0\n",
    "\n",
    "    for i in range(0, len(s1)):\n",
    "        if (s1[i] != s2[i]):\n",
    "            if (s1[i] == 'A' and s2[i] == 'G'):\n",
    "                t1 = t1 + 1\n",
    "            elif (s1[i] == 'G' and s2[i] == 'A'):\n",
    "                t1 = t1 + 1\n",
    "            elif (s1[i] == 'C' and s2[i] == 'T'):\n",
    "                t1 = t1 + 1\n",
    "            elif (s1[i] == 'T' and s2[i] == 'C'):\n",
    "                t1 = t1 + 1\n",
    "            else:\n",
    "                t2 = t2 + 1\n",
    "    return t1 / t2\n",
    "\n",
    "s1, s2 = mat\n",
    "print(tAndT(s1, s2))"
   ]
  },
  {
   "cell_type": "code",
   "execution_count": null,
   "metadata": {},
   "outputs": [],
   "source": []
  }
 ],
 "metadata": {
  "kernelspec": {
   "display_name": "Python 3",
   "language": "python",
   "name": "python3"
  },
  "language_info": {
   "codemirror_mode": {
    "name": "ipython",
    "version": 3
   },
   "file_extension": ".py",
   "mimetype": "text/x-python",
   "name": "python",
   "nbconvert_exporter": "python",
   "pygments_lexer": "ipython3",
   "version": "3.8.3"
  }
 },
 "nbformat": 4,
 "nbformat_minor": 4
}
