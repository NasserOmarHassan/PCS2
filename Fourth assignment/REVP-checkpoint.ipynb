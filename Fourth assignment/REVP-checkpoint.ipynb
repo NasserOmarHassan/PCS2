{
 "cells": [
  {
   "cell_type": "code",
   "execution_count": 1,
   "metadata": {},
   "outputs": [],
   "source": [
    "def revp(s):\n",
    "    ns = [['A', 'T'], ['C', 'G']]\n",
    "    for i in range(len(s)):\n",
    "        for l in range(4, 13, 2):\n",
    "            if not i+l > len(s):\n",
    "                pal = s[i : i + l]\n",
    "                for x in range(l//2):\n",
    "                    t = True\n",
    "                    if sorted([pal[x], pal[l - x -1]]) not in ns:\n",
    "                        t = False\n",
    "                        break\n",
    "                if t == True:\n",
    "                    print(i+1, l)"
   ]
  },
  {
   "cell_type": "code",
   "execution_count": 2,
   "metadata": {},
   "outputs": [
    {
     "name": "stdout",
     "output_type": "stream",
     "text": [
      "1 4\n",
      "12 4\n",
      "51 4\n",
      "56 6\n",
      "57 4\n",
      "64 4\n",
      "76 4\n",
      "79 4\n",
      "83 10\n",
      "84 8\n",
      "85 6\n",
      "86 4\n",
      "96 4\n",
      "100 4\n",
      "104 4\n",
      "108 4\n",
      "110 4\n",
      "145 4\n",
      "164 4\n",
      "175 4\n",
      "192 4\n",
      "198 4\n",
      "214 4\n",
      "253 4\n",
      "254 4\n",
      "275 4\n",
      "279 4\n",
      "289 4\n",
      "296 4\n",
      "330 4\n",
      "371 4\n",
      "383 4\n",
      "397 12\n",
      "398 10\n",
      "399 8\n",
      "400 6\n",
      "401 4\n",
      "407 4\n",
      "410 6\n",
      "411 4\n",
      "425 8\n",
      "426 6\n",
      "427 4\n",
      "456 4\n",
      "487 4\n",
      "491 4\n",
      "505 4\n",
      "509 4\n",
      "565 4\n",
      "576 4\n",
      "592 4\n",
      "595 6\n",
      "596 4\n",
      "650 4\n",
      "693 4\n",
      "709 4\n",
      "713 4\n",
      "714 4\n",
      "717 4\n",
      "783 6\n",
      "784 4\n",
      "792 4\n",
      "800 4\n",
      "801 4\n"
     ]
    }
   ],
   "source": [
    "with open(\"C://Users//Nasser//Downloads//rosalind_revp.txt\", \"r\") as f:\n",
    "    line = f.read().split('\\n', 1)\n",
    "    s = list(line[1].replace('\\n', ''))\n",
    "    revp(s)"
   ]
  },
  {
   "cell_type": "code",
   "execution_count": null,
   "metadata": {},
   "outputs": [],
   "source": []
  }
 ],
 "metadata": {
  "kernelspec": {
   "display_name": "Python 3",
   "language": "python",
   "name": "python3"
  },
  "language_info": {
   "codemirror_mode": {
    "name": "ipython",
    "version": 3
   },
   "file_extension": ".py",
   "mimetype": "text/x-python",
   "name": "python",
   "nbconvert_exporter": "python",
   "pygments_lexer": "ipython3",
   "version": "3.8.3"
  }
 },
 "nbformat": 4,
 "nbformat_minor": 4
}
