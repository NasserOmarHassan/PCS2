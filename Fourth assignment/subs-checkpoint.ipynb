{
 "cells": [
  {
   "cell_type": "code",
   "execution_count": 2,
   "metadata": {},
   "outputs": [],
   "source": [
    "def subs(s, t):\n",
    "    r = []\n",
    "    i = s.find(t)\n",
    "    while i != -1:\n",
    "        r.append(i+1)\n",
    "        j = s.find(t, i+1)\n",
    "        i = j\n",
    "    return r"
   ]
  },
  {
   "cell_type": "code",
   "execution_count": 3,
   "metadata": {},
   "outputs": [
    {
     "name": "stdout",
     "output_type": "stream",
     "text": [
      "4 109 124 223 238 302 339 346 353 435 442 449 489 507 539 600 629 656 706 713 808 815 822 945\n"
     ]
    }
   ],
   "source": [
    "with open('C://Users//Nasser//Downloads//rosalind_subs.txt', 'r') as f:\n",
    "    f = f.readlines()\n",
    "    s = f[0].replace('\\n', '')\n",
    "    t = f[1].replace('\\n', '')\n",
    "    print(*subs(s, t))"
   ]
  },
  {
   "cell_type": "code",
   "execution_count": null,
   "metadata": {},
   "outputs": [],
   "source": []
  }
 ],
 "metadata": {
  "kernelspec": {
   "display_name": "Python 3",
   "language": "python",
   "name": "python3"
  },
  "language_info": {
   "codemirror_mode": {
    "name": "ipython",
    "version": 3
   },
   "file_extension": ".py",
   "mimetype": "text/x-python",
   "name": "python",
   "nbconvert_exporter": "python",
   "pygments_lexer": "ipython3",
   "version": "3.8.3"
  }
 },
 "nbformat": 4,
 "nbformat_minor": 4
}
