{
 "cells": [
  {
   "cell_type": "code",
   "execution_count": 1,
   "metadata": {},
   "outputs": [],
   "source": [
    "def revc(s):\n",
    "    cs = ''\n",
    "    for c in s[::-1]:\n",
    "        if c == 'A':\n",
    "            cs += 'T'\n",
    "        if c == 'C':\n",
    "            cs += 'G'\n",
    "        if c == 'G':\n",
    "            cs += 'C'\n",
    "        if c == 'T':\n",
    "            cs += 'A'\n",
    "    return cs"
   ]
  },
  {
   "cell_type": "code",
   "execution_count": 2,
   "metadata": {},
   "outputs": [
    {
     "name": "stdout",
     "output_type": "stream",
     "text": [
      "GGCTCGCTGAAGTTTTCTTGTATGTGAGGGGTAAAAAGCTGAACTATAGGTCGTGCCTCCCTGCCCCTGGAGTAATGAGTTATCGTGTTGATGCACTGAAGAGTACACCCGAGTTGAGTCTTTATCCGCATCCGGGGTGGTAGAATACCCCGGTCCAGCTTCCTAATCACCATCCGATCCCTCTAGGGTGGAAGTACGTTCCTCGAGGCACCTTGGTACCCATTTTAATCTTGGCCCGGTATTTCATGAACCTACACGGGCAGAACGCTGCGAAGCCCCCGGCAGCTTCCTGCTGCGCAAGCATCAGAGTCCCTATGAAGGTTCAGGCGTTGGGGTCATTTGGGGTTCCGGACCTCGTCGCTCTCTGACTTACTCTCGGGTACAAGACCTCTAGGTCAGATGCCGAGTGGCTTAGGACGACATTTCGCTGGTCAAAGAGCAATAGTCAAGCGTCAATTATTGATCTCTTGGCGGCGCCTGCCCATTTCGCCTTTCGACCAGTGGGGATGAGAATCCGGGCCTACGTAGGGATATAGATAATCAGTCCCAGGTTGGGCGCTCATGATATCCCCTAACAAGCCCGATTGACCAATGAACTCAAGAGCTCGTCGCGGTTACTGTAACTGCCCGCATTTATCTGAGCGGAGCCGCGCTTGTTCACTGGCCCAATCTAATTCTGTACACCCCACAGAACCGTACTGAGCAAGGCGGAGGTAATGTCGGCACGTAATCTCTAACTCTCGTTAGGCTTCCGGAGTGGTAGAATCTGCACCTTCCTAATCCGCACCACTTGTACAAATAACGATCTTTCCGCTGTTCCTCGGATGCCAG\n"
     ]
    }
   ],
   "source": [
    "with open('C://Users//Nasser//Downloads//rosalind_revc.txt', 'r') as f:\n",
    "    s = f.read()\n",
    "    print(revc(s))"
   ]
  },
  {
   "cell_type": "code",
   "execution_count": null,
   "metadata": {},
   "outputs": [],
   "source": []
  }
 ],
 "metadata": {
  "kernelspec": {
   "display_name": "Python 3",
   "language": "python",
   "name": "python3"
  },
  "language_info": {
   "codemirror_mode": {
    "name": "ipython",
    "version": 3
   },
   "file_extension": ".py",
   "mimetype": "text/x-python",
   "name": "python",
   "nbconvert_exporter": "python",
   "pygments_lexer": "ipython3",
   "version": "3.8.3"
  }
 },
 "nbformat": 4,
 "nbformat_minor": 4
}
