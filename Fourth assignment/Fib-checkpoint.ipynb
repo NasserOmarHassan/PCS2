{
 "cells": [
  {
   "cell_type": "code",
   "execution_count": 1,
   "metadata": {},
   "outputs": [],
   "source": [
    "def fib(n, k):\n",
    "    p = 1\n",
    "    c = 1\n",
    "    for i in range(n-2):\n",
    "        nc  = k*p + c\n",
    "        p = c\n",
    "        c = nc\n",
    "    print(c)"
   ]
  },
  {
   "cell_type": "code",
   "execution_count": 4,
   "metadata": {},
   "outputs": [
    {
     "name": "stdout",
     "output_type": "stream",
     "text": [
      "112316396483406\n"
     ]
    }
   ],
   "source": [
    "with open('C://Users//Nasser//Downloads//rosalind_fib.txt', 'r') as f:\n",
    "    f = f.read()\n",
    "    f = list(map(int, f.split()))\n",
    "    n, k = f[0], f[1]\n",
    "    fib(n, k)"
   ]
  },
  {
   "cell_type": "code",
   "execution_count": null,
   "metadata": {},
   "outputs": [],
   "source": []
  }
 ],
 "metadata": {
  "kernelspec": {
   "display_name": "Python 3",
   "language": "python",
   "name": "python3"
  },
  "language_info": {
   "codemirror_mode": {
    "name": "ipython",
    "version": 3
   },
   "file_extension": ".py",
   "mimetype": "text/x-python",
   "name": "python",
   "nbconvert_exporter": "python",
   "pygments_lexer": "ipython3",
   "version": "3.8.3"
  }
 },
 "nbformat": 4,
 "nbformat_minor": 4
}
