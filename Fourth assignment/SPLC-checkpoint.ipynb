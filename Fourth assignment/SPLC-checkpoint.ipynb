{
 "cells": [
  {
   "cell_type": "code",
   "execution_count": 8,
   "metadata": {},
   "outputs": [
    {
     "name": "stdout",
     "output_type": "stream",
     "text": [
      "MDSIASSTGTTYSSTYLAFRSKQPGSGPCAPKPIIIVGSYTLPKHRDVLILPQVCLEECKPPCITNRLLHHTYHSYRRTLASSSMSRSLYHGTVGESMSVSRSDLHEPSSMRRDDFMISGPIVFHVISPTSNAHGTANWCYSPRVSLGSVSSRQPSIFYRIVSITEAGPPPKECNSYHPVADRRWD\n"
     ]
    }
   ],
   "source": [
    "RNA_CODON_TABLE = {\n",
    "    \"UUU\":\"F\", \"UUC\":\"F\", \"UUA\":\"L\", \"UUG\":\"L\",\n",
    "    \"UCU\":\"S\", \"UCC\":\"S\", \"UCA\":\"S\", \"UCG\":\"S\",\n",
    "    \"UAU\":\"Y\", \"UAC\":\"Y\", \"UAA\":\"STOP\", \"UAG\":\"STOP\",\n",
    "    \"UGU\":\"C\", \"UGC\":\"C\", \"UGA\":\"STOP\", \"UGG\":\"W\",\n",
    "    \"CUU\":\"L\", \"CUC\":\"L\", \"CUA\":\"L\", \"CUG\":\"L\",\n",
    "    \"CCU\":\"P\", \"CCC\":\"P\", \"CCA\":\"P\", \"CCG\":\"P\",\n",
    "    \"CAU\":\"H\", \"CAC\":\"H\", \"CAA\":\"Q\", \"CAG\":\"Q\",\n",
    "    \"CGU\":\"R\", \"CGC\":\"R\", \"CGA\":\"R\", \"CGG\":\"R\",\n",
    "    \"AUU\":\"I\", \"AUC\":\"I\", \"AUA\":\"I\", \"AUG\":\"M\",\n",
    "    \"ACU\":\"T\", \"ACC\":\"T\", \"ACA\":\"T\", \"ACG\":\"T\",\n",
    "    \"AAU\":\"N\", \"AAC\":\"N\", \"AAA\":\"K\", \"AAG\":\"K\",\n",
    "    \"AGU\":\"S\", \"AGC\":\"S\", \"AGA\":\"R\", \"AGG\":\"R\",\n",
    "    \"GUU\":\"V\", \"GUC\":\"V\", \"GUA\":\"V\", \"GUG\":\"V\",\n",
    "    \"GCU\":\"A\", \"GCC\":\"A\", \"GCA\":\"A\", \"GCG\":\"A\",\n",
    "    \"GAU\":\"D\", \"GAC\":\"D\", \"GAA\":\"E\", \"GAG\":\"E\",\n",
    "    \"GGU\":\"G\", \"GGC\":\"G\", \"GGA\":\"G\", \"GGG\":\"G\",}\n",
    "\n",
    "#read input file and generate the mRNA\n",
    "def processInput():\n",
    "    inputFile = open(\"C://Users//Nasser//Downloads//rosalind_splc (2).txt\", \"r\")\n",
    "    sequences = inputFile.readlines()\n",
    "    i=1\n",
    "    tempString=''\n",
    "    inputStrings =[]\n",
    "    while(i<len(sequences)):\n",
    "        if(sequences[i].__contains__('>')):\n",
    "            inputStrings.append(tempString)\n",
    "            tempString=''\n",
    "            i+=1\n",
    "        elif(i==len(sequences)-1):\n",
    "            inputStrings.append(sequences[i])\n",
    "            i+=1\n",
    "        else:\n",
    "            tempString +=sequences[i]\n",
    "            i+=1\n",
    "    inputStrings[0] = inputStrings[0].replace('\\n', '')\n",
    "    i=1\n",
    "    while (i < len(inputStrings)):\n",
    "        inputStrings[i] = inputStrings[i].replace('\\n','')\n",
    "        inputStrings[0] = removeIntrons(inputStrings[0],inputStrings[i])\n",
    "        i+=1\n",
    "    inputStrings[0] = inputStrings[0].replace('T','U')\n",
    "    return inputStrings[0]\n",
    "\n",
    "\n",
    "def removeIntrons(dnaSequence, intron):\n",
    "    dnaSequence = dnaSequence.replace(intron, '')\n",
    "    return dnaSequence\n",
    "\n",
    "\n",
    "def replaceCodons(rnasequence):\n",
    "    i = 0\n",
    "    protein = \"\"\n",
    "    rnasequence = rnasequence.replace(\"\\n\",\"\")\n",
    "    while (i < len(rnasequence)):\n",
    "        if(RNA_CODON_TABLE[rnasequence[i:i+3]]== 'STOP'):\n",
    "            break\n",
    "        protein += RNA_CODON_TABLE[rnasequence[i:i + 3]]\n",
    "        i += 3\n",
    "    protein = protein.replace('STOP','')\n",
    "    print(protein)\n",
    "\n",
    "replaceCodons(processInput())"
   ]
  },
  {
   "cell_type": "code",
   "execution_count": null,
   "metadata": {},
   "outputs": [],
   "source": []
  }
 ],
 "metadata": {
  "kernelspec": {
   "display_name": "Python 3",
   "language": "python",
   "name": "python3"
  },
  "language_info": {
   "codemirror_mode": {
    "name": "ipython",
    "version": 3
   },
   "file_extension": ".py",
   "mimetype": "text/x-python",
   "name": "python",
   "nbconvert_exporter": "python",
   "pygments_lexer": "ipython3",
   "version": "3.8.3"
  }
 },
 "nbformat": 4,
 "nbformat_minor": 4
}
