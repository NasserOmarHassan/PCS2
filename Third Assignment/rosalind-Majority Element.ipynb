{
 "cells": [
  {
   "cell_type": "code",
   "execution_count": 1,
   "metadata": {},
   "outputs": [],
   "source": [
    "def maj(f):\n",
    "    kn = list(map(int, f[0].split()))\n",
    "    k = int(kn[0])\n",
    "    n = int(kn[1])\n",
    "    for line in f[1:k+1]:\n",
    "        e = -1\n",
    "        line = list(map(int, line.split()))\n",
    "        for c in line:\n",
    "            if line.count(c) > n//2:\n",
    "                e = c\n",
    "        print(e, end = ' ')"
   ]
  },
  {
   "cell_type": "code",
   "execution_count": 2,
   "metadata": {},
   "outputs": [
    {
     "name": "stdout",
     "output_type": "stream",
     "text": [
      "6928 -1 9491 7179 7119 -1 1226 -1 -1 8353 9499 7750 -1 2339 -1 -1 -1 6667 3563 2566 "
     ]
    }
   ],
   "source": [
    "f = open('C:/Users/Nasser/Downloads/rosalind_maj.txt', 'r')\n",
    "f = f.readlines()\n",
    "maj(f)"
   ]
  },
  {
   "cell_type": "code",
   "execution_count": null,
   "metadata": {},
   "outputs": [],
   "source": []
  }
 ],
 "metadata": {
  "kernelspec": {
   "display_name": "Python 3",
   "language": "python",
   "name": "python3"
  },
  "language_info": {
   "codemirror_mode": {
    "name": "ipython",
    "version": 3
   },
   "file_extension": ".py",
   "mimetype": "text/x-python",
   "name": "python",
   "nbconvert_exporter": "python",
   "pygments_lexer": "ipython3",
   "version": "3.8.3"
  }
 },
 "nbformat": 4,
 "nbformat_minor": 4
}
