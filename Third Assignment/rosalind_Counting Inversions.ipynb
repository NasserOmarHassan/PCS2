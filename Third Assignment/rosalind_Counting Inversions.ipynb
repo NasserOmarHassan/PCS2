{
 "cells": [
  {
   "cell_type": "code",
   "execution_count": 1,
   "metadata": {},
   "outputs": [
    {
     "name": "stdout",
     "output_type": "stream",
     "text": [
      "1653539356\n"
     ]
    }
   ],
   "source": [
    "def inv(n, arr):\n",
    "    a = arr\n",
    "    sarr = sorted(arr)\n",
    "    r = 0\n",
    "    for i in range(n):\n",
    "        j = sarr.index(a[0])\n",
    "        r += j\n",
    "        sarr.pop(j)\n",
    "        a.pop(0)\n",
    "    return(r)\n",
    "\n",
    "f = open('C:/Users/Nasser/Downloads/rosalind_inv.txt', 'r')\n",
    "f = f.readlines()\n",
    "l = list(map(int, f[1].split()))\n",
    "n = int(f[0])\n",
    "print(inv(n, l))"
   ]
  },
  {
   "cell_type": "code",
   "execution_count": null,
   "metadata": {},
   "outputs": [],
   "source": []
  }
 ],
 "metadata": {
  "kernelspec": {
   "display_name": "Python 3",
   "language": "python",
   "name": "python3"
  },
  "language_info": {
   "codemirror_mode": {
    "name": "ipython",
    "version": 3
   },
   "file_extension": ".py",
   "mimetype": "text/x-python",
   "name": "python",
   "nbconvert_exporter": "python",
   "pygments_lexer": "ipython3",
   "version": "3.8.3"
  }
 },
 "nbformat": 4,
 "nbformat_minor": 4
}
