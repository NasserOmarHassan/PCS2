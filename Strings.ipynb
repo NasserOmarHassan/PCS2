{
 "cells": [
  {
   "cell_type": "markdown",
   "metadata": {},
   "source": [
    "# Nasser Hassan\n",
    "\n",
    "# 1848826"
   ]
  },
  {
   "cell_type": "code",
   "execution_count": null,
   "metadata": {},
   "outputs": [],
   "source": [
    "#TASK 1 camelCase\n",
    "import math\n",
    "import os\n",
    "import random\n",
    "import re\n",
    "import sys\n",
    "\n",
    "\n",
    "def camelcase(s):\n",
    "    count = 1\n",
    "    for i in s:\n",
    "        if i in \"ABCDEFGHIJKLMNOPQRSTUVWXYZ\":\n",
    "            count += 1\n",
    "    return count\n",
    "\n",
    "if __name__ == '__main__':\n",
    "    fptr = open(os.environ['OUTPUT_PATH'], 'w')\n",
    "\n",
    "    s = input()\n",
    "\n",
    "    result = camelcase(s)\n",
    "\n",
    "    fptr.write(str(result) + '\\n')\n",
    "\n",
    "    fptr.close()"
   ]
  },
  {
   "cell_type": "code",
   "execution_count": null,
   "metadata": {},
   "outputs": [],
   "source": [
    "#TASK 2 Strong Password\n",
    "import math\n",
    "import os\n",
    "import random\n",
    "import re\n",
    "import sys\n",
    "\n",
    "def minimumNumber(n, password):\n",
    "    numbers = \"0123456789\"\n",
    "    lower_case = \"abcdefghijklmnopqrstuvwxyz\"\n",
    "    upper_case = \"ABCDEFGHIJKLMNOPQRSTUVWXYZ\"\n",
    "    special_characters = \"!@#$%^&*()-+\"\n",
    "\n",
    "    count = 0    \n",
    "    if any(i.isdigit() for i in password) == False:\n",
    "        count += 1\n",
    "    if any(i.islower() for i in password) == False:\n",
    "        count += 1\n",
    "    if any(i.isupper() for i in password) == False:\n",
    "        count += 1\n",
    "    if any(i in special_characters for i in password) == False:\n",
    "        count+=1\n",
    "    return max(count,6-n)\n",
    "\n",
    "if __name__ == '__main__':\n",
    "    fptr = open(os.environ['OUTPUT_PATH'], 'w')\n",
    "\n",
    "    n = int(input())\n",
    "\n",
    "    password = input()\n",
    "\n",
    "    answer = minimumNumber(n, password)\n",
    "\n",
    "    fptr.write(str(answer) + '\\n')\n",
    "\n",
    "    fptr.close()"
   ]
  },
  {
   "cell_type": "code",
   "execution_count": null,
   "metadata": {},
   "outputs": [],
   "source": [
    "#TASK 3 Mars Exploration\n",
    "\n",
    "count,i,j=0,0,0\n",
    "tmp=('S','O','S')\n",
    "S = input().strip()\n",
    "for i in range(len(S)):\n",
    "    if j==3:\n",
    "        j=0\n",
    "    if S[i] != tmp[j]:\n",
    "        count+=1\n",
    "    j+=1\n",
    "print(count)"
   ]
  },
  {
   "cell_type": "code",
   "execution_count": null,
   "metadata": {},
   "outputs": [],
   "source": [
    "#TASK 4 Funny String\n",
    "\n",
    "cases = int(input())\n",
    "for caseNo in range(cases):\n",
    "    s = input()\n",
    "    rs = s[::-1]\n",
    "    n = len(s)\n",
    "    for i in range(1, n):\n",
    "        d1 = abs(ord(s[i]) - ord(s[i - 1]))\n",
    "        d2 = abs(ord(rs[i]) - ord(rs[i - 1]))\n",
    "        if d1 != d2:\n",
    "            print(\"Not Funny\")\n",
    "            break\n",
    "    else:\n",
    "        print(\"Funny\")"
   ]
  },
  {
   "cell_type": "code",
   "execution_count": null,
   "metadata": {},
   "outputs": [],
   "source": [
    "#TASK 5 Pangrams \n",
    "def getCharCnt(s):\n",
    "    return len(set(c.lower() for c in s if c != ' '))\n",
    " \n",
    "if __name__ == '__main__':\n",
    "    s = input()\n",
    "    if getCharCnt(s) == 26:\n",
    "        print(\"pangram\")\n",
    "    else:\n",
    "        print(\"not pangram\")"
   ]
  }
 ],
 "metadata": {
  "kernelspec": {
   "display_name": "Python 3",
   "language": "python",
   "name": "python3"
  },
  "language_info": {
   "codemirror_mode": {
    "name": "ipython",
    "version": 3
   },
   "file_extension": ".py",
   "mimetype": "text/x-python",
   "name": "python",
   "nbconvert_exporter": "python",
   "pygments_lexer": "ipython3",
   "version": "3.8.3"
  }
 },
 "nbformat": 4,
 "nbformat_minor": 4
}
